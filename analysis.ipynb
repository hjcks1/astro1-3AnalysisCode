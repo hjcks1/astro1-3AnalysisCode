{
 "cells": [
  {
   "cell_type": "code",
   "execution_count": null,
   "id": "deb4a06d-c077-4b4a-a5c4-bb44bc596094",
   "metadata": {},
   "outputs": [],
   "source": [
    "import math"
   ]
  },
  {
   "cell_type": "code",
   "execution_count": null,
   "id": "1cd42c01-b9ee-4753-aecb-fc5d1699de0d",
   "metadata": {},
   "outputs": [],
   "source": [
    "#I will save each value and its uncertainty in an array [value, uncertanity]\n",
    "#Also I will assume any given values have 0 uncertainty"
   ]
  },
  {
   "cell_type": "code",
   "execution_count": null,
   "id": "3e1d601e-56c9-46a4-9b7f-cec00c65d2ab",
   "metadata": {},
   "outputs": [],
   "source": [
    "MSa = [-16.29, 0]\n",
    "MSb = [80.22, 0]\n",
    "RGa = [14.77, 0]\n",
    "RGb = [-39.95, 0]\n",
    "#coefficients of lines from clustering algorithm on HR diagram"
   ]
  },
  {
   "cell_type": "code",
   "execution_count": 118,
   "id": "7e0539e7-6edc-4c7b-9829-fe916274c6b0",
   "metadata": {},
   "outputs": [],
   "source": [
    "peakLambda = [500e-9, 10e-9] #m\n",
    "#observation from spectrum graph"
   ]
  },
  {
   "cell_type": "code",
   "execution_count": null,
   "id": "b2d2676b-b52a-4473-8522-0b8e90a25ec1",
   "metadata": {},
   "outputs": [],
   "source": [
    "Msun = [4.72, 0] #abs. magnitude of sun\n",
    "massSun = [2e30 , 0] #mass of sun\n",
    "Lsun = [4e26,0] #luminosity of sun"
   ]
  },
  {
   "cell_type": "code",
   "execution_count": null,
   "id": "a41586cd-16c8-4d6a-9c3e-7fc9ae70875d",
   "metadata": {},
   "outputs": [],
   "source": [
    "#now make functions for each operation to handle uncertainties"
   ]
  },
  {
   "cell_type": "code",
   "execution_count": null,
   "id": "8f9f04e4-a24b-4b40-aee0-bfaa34728d30",
   "metadata": {},
   "outputs": [],
   "source": [
    "def add(a, b):\n",
    "    z = [0, 0] #temporary\n",
    "    z[0] = a[0] + b[0]\n",
    "    z[1] = math.sqrt((a[1])**2 + (b[1])**2)\n",
    "    return z"
   ]
  },
  {
   "cell_type": "code",
   "execution_count": null,
   "id": "d594b32b-5893-4404-a9e1-8706233773f7",
   "metadata": {},
   "outputs": [],
   "source": [
    "def subtract(a, b):\n",
    "    z = [0, 0] #temporary\n",
    "    z[0] = a[0] - b[0]\n",
    "    z[1] = math.sqrt((a[1])**2 + (b[1])**2)\n",
    "    return z"
   ]
  },
  {
   "cell_type": "code",
   "execution_count": null,
   "id": "f34eb3eb-b68d-499e-a8ce-79c420dac9d8",
   "metadata": {},
   "outputs": [],
   "source": [
    "def multiply(a, b):\n",
    "    z = [0, 0] #temporary\n",
    "    z[0] = a[0] * b[0]\n",
    "    z[1] = z[0]*math.sqrt((a[1]/a[0])**2 + (b[1]/b[0])**2)\n",
    "    return z"
   ]
  },
  {
   "cell_type": "code",
   "execution_count": null,
   "id": "11387366-969c-42f4-9d30-64b767003992",
   "metadata": {},
   "outputs": [],
   "source": [
    "def divide(a, b):\n",
    "    z = [0, 0] #temporary\n",
    "    z[0] = a[0] / b[0]\n",
    "    z[1] = z[0]*math.sqrt((a[1]/a[0])**2 + (b[1]/b[0])**2)\n",
    "    return z"
   ]
  },
  {
   "cell_type": "code",
   "execution_count": null,
   "id": "0a306f43-8299-44ab-8999-f5d524394d5c",
   "metadata": {},
   "outputs": [],
   "source": [
    "def nlog10(n, a): #n is a constant not one of the data points\n",
    "    z = [0, 0] #temporary\n",
    "    z[0] = n*math.log(a[0], 10)\n",
    "    z[1] = n*(a[1]/(a[0]*math.log(10)))\n",
    "    return z"
   ]
  },
  {
   "cell_type": "code",
   "execution_count": null,
   "id": "173a26e2-4674-46aa-9f8a-ea387af819d8",
   "metadata": {},
   "outputs": [],
   "source": [
    "def tenToThePower(n, a): #n is a constant multiple \n",
    "    z = [0,0]\n",
    "    z[0] = 10**(n*a[0])\n",
    "    z[1] = z[0]*n*math.log(10)*a[1]\n",
    "    return z"
   ]
  },
  {
   "cell_type": "code",
   "execution_count": null,
   "id": "f120bf14-38b6-4ea0-b38b-7897a11db725",
   "metadata": {},
   "outputs": [],
   "source": [
    "def aToTheN(n, a): \n",
    "    z = [0, 0]\n",
    "    z[0] = a[0]**n\n",
    "    z[1] = z[0]*math.sqrt(((n*a[1])/a[0])**2)\n",
    "    return z"
   ]
  },
  {
   "cell_type": "code",
   "execution_count": null,
   "id": "79e91bef-4af3-440c-8151-4a078c2fdcec",
   "metadata": {},
   "outputs": [
    {
     "data": {
      "text/plain": [
       "[5800.0, 116.0]"
      ]
     },
     "execution_count": 100,
     "metadata": {},
     "output_type": "execute_result"
    }
   ],
   "source": [
    "#first get temp of sun from wien's displacement law:\n",
    "Tsun = divide([2.9e-3, 0],peakLambda)\n",
    "Tsun"
   ]
  },
  {
   "cell_type": "code",
   "execution_count": null,
   "id": "b8678074-6b20-4c30-aa86-09e1e32a5fed",
   "metadata": {},
   "outputs": [
    {
     "data": {
      "text/plain": [
       "[18.913757984859764, 0.1414931422040794]"
      ]
     },
     "execution_count": 101,
     "metadata": {},
     "output_type": "execute_result"
    }
   ],
   "source": [
    "#now find apparent magnitude of sun-like star in the cluster on MS\n",
    "#using m = alog(T) + b\n",
    "mSun = add(nlog10(MSa[0], Tsun), MSb)\n",
    "mSun"
   ]
  },
  {
   "cell_type": "code",
   "execution_count": null,
   "id": "48a1be8d-9793-4509-b36a-5b8235d9ac90",
   "metadata": {},
   "outputs": [
    {
     "data": {
      "text/plain": [
       "[6898.4512087833355, 449.5030807643221]"
      ]
     },
     "execution_count": 102,
     "metadata": {},
     "output_type": "execute_result"
    }
   ],
   "source": [
    "#now find distance to cluster\n",
    "one  = [1, 0]\n",
    "fifth = [0.2, 0]\n",
    "dist = tenToThePower(1, add(one, multiply(fifth, subtract(mSun, Msun)))) #in parsecs\n",
    "dist"
   ]
  },
  {
   "cell_type": "code",
   "execution_count": null,
   "id": "1aaf942a-bfd3-4354-84a5-7d0acd6e05b6",
   "metadata": {},
   "outputs": [
    {
     "data": {
      "text/plain": [
       "[17.194587894397944, 0.0]"
      ]
     },
     "execution_count": 103,
     "metadata": {},
     "output_type": "execute_result"
    }
   ],
   "source": [
    "#find rel. magnitude of star leaving main seq\n",
    "mTurnoff = divide(subtract(multiply(MSb, RGa), multiply(MSa, RGb)), subtract(RGa, MSa))\n",
    "mTurnoff"
   ]
  },
  {
   "cell_type": "code",
   "execution_count": null,
   "id": "8e649851-ff38-440c-b558-05509d52b0bd",
   "metadata": {},
   "outputs": [
    {
     "data": {
      "text/plain": [
       "[3.000829909538183, 0.1414931422040794]"
      ]
     },
     "execution_count": 104,
     "metadata": {},
     "output_type": "execute_result"
    }
   ],
   "source": [
    "#find abs. magnitude of this star\n",
    "five = [5, 0]\n",
    "Mturnoff = subtract(add(mTurnoff, five), nlog10(5, dist))\n",
    "Mturnoff"
   ]
  },
  {
   "cell_type": "code",
   "execution_count": null,
   "id": "82382459-19db-4b29-9060-e2a6903b7982",
   "metadata": {},
   "outputs": [],
   "source": [
    "#find luminosity of turnoff star\n",
    "Lstar = multiply(Lsun, tenToThePower(-0.4, subtract(Mturnoff, Msun)))\n",
    "Lstar"
   ]
  },
  {
   "cell_type": "code",
   "execution_count": null,
   "id": "de244e31-f993-492a-b881-d0017b0d7075",
   "metadata": {},
   "outputs": [
    {
     "data": {
      "text/plain": [
       "[2.971303432854087e+30, 9.680506584238614e+28]"
      ]
     },
     "execution_count": 106,
     "metadata": {},
     "output_type": "execute_result"
    }
   ],
   "source": [
    "#find mass of turnoff star\n",
    "massStar = multiply(massSun, aToTheN(0.25, divide(Lstar, Lsun)))\n",
    "massStar"
   ]
  },
  {
   "cell_type": "code",
   "execution_count": null,
   "id": "22430fad-d763-4a49-a454-aa7f8e2d8ed7",
   "metadata": {},
   "outputs": [
    {
     "name": "stdout",
     "output_type": "stream",
     "text": [
      "6.198e+09 yrs ± 13%\n"
     ]
    }
   ],
   "source": [
    "#now find age of cluster\n",
    "deltaE = [6.3e14, 0]\n",
    "time = divide(multiply(multiply(fifth, massStar), deltaE), Lstar) #in seconds\n",
    "timeYears = [time[0]/3.1e7, time[1]/3.1e7] #convert time to years\n",
    "print(str('%.4g' % timeYears[0]) + \" yrs ± \" + str('%.2g' % ((time[1]/time[0])*100))+\"%\")\n"
   ]
  },
  {
   "cell_type": "code",
   "execution_count": null,
   "id": "e3b42bac-12e8-4c43-b2fb-a7cfe5dbec20",
   "metadata": {},
   "outputs": [],
   "source": []
  }
 ],
 "metadata": {
  "kernelspec": {
   "display_name": "Default",
   "language": "python",
   "name": "python3"
  },
  "language_info": {
   "codemirror_mode": {
    "name": "ipython",
    "version": 3
   },
   "file_extension": ".py",
   "mimetype": "text/x-python",
   "name": "python",
   "nbconvert_exporter": "python",
   "pygments_lexer": "ipython3",
   "version": "3.8.13"
  }
 },
 "nbformat": 4,
 "nbformat_minor": 5
}
